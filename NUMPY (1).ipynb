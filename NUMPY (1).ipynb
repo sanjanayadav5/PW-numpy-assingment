{
  "nbformat": 4,
  "nbformat_minor": 0,
  "metadata": {
    "colab": {
      "provenance": []
    },
    "kernelspec": {
      "name": "python3",
      "display_name": "Python 3"
    },
    "language_info": {
      "name": "python"
    }
  },
  "cells": [
    {
      "cell_type": "markdown",
      "source": [
        "Q1"
      ],
      "metadata": {
        "id": "ub5qP0Mdl4UQ"
      }
    },
    {
      "cell_type": "code",
      "execution_count": 1,
      "metadata": {
        "colab": {
          "base_uri": "https://localhost:8080/"
        },
        "id": "jiItve4blzo6",
        "outputId": "a97cab87-1f44-47de-a5da-314a532225d9"
      },
      "outputs": [
        {
          "output_type": "stream",
          "name": "stdout",
          "text": [
            "int64\n"
          ]
        }
      ],
      "source": [
        " import numpy as np\n",
        "arr = np.array([0, 1, 2, 3, 4, 5])\n",
        "print(arr.dtype)\n"
      ]
    },
    {
      "cell_type": "markdown",
      "source": [
        "Q2"
      ],
      "metadata": {
        "id": "HAffaDfWl7uy"
      }
    },
    {
      "cell_type": "code",
      "source": [
        "def check_dtype(arr):\n",
        "  return arr.dtype == np.float64\n",
        "arr = np.array([1.5, 2.6, 3.7])\n",
        "print(check_dtype(arr))\n"
      ],
      "metadata": {
        "colab": {
          "base_uri": "https://localhost:8080/"
        },
        "id": "VaaLSPkFl9tY",
        "outputId": "64315f24-6769-42fb-f340-a09c76653870"
      },
      "execution_count": 5,
      "outputs": [
        {
          "output_type": "stream",
          "name": "stdout",
          "text": [
            "True\n"
          ]
        }
      ]
    },
    {
      "cell_type": "markdown",
      "source": [
        "Q3"
      ],
      "metadata": {
        "id": "iWLX6DRlsJDs"
      }
    },
    {
      "cell_type": "code",
      "source": [
        "arr = np.array([1+2j, 3+4j, 5+6j], dtype=np.complex128)\n",
        "print(arr)\n"
      ],
      "metadata": {
        "colab": {
          "base_uri": "https://localhost:8080/"
        },
        "id": "qzXY_rO0mMu-",
        "outputId": "672f1a2e-a1b8-4564-9ccf-5df53db563ac"
      },
      "execution_count": 6,
      "outputs": [
        {
          "output_type": "stream",
          "name": "stdout",
          "text": [
            "[1.+2.j 3.+4.j 5.+6.j]\n"
          ]
        }
      ]
    },
    {
      "cell_type": "markdown",
      "source": [
        "Q4"
      ],
      "metadata": {
        "id": "zrXBlMTcsNqj"
      }
    },
    {
      "cell_type": "code",
      "source": [
        "arr = np.array([1, 2, 3, 4, 5])\n",
        "arr_float32 = arr.astype(np.float32)\n",
        "print(arr_float32)"
      ],
      "metadata": {
        "colab": {
          "base_uri": "https://localhost:8080/"
        },
        "id": "19GToXRJmSXM",
        "outputId": "2dae7355-6fd8-451b-ab8f-587fda49da58"
      },
      "execution_count": 7,
      "outputs": [
        {
          "output_type": "stream",
          "name": "stdout",
          "text": [
            "[1. 2. 3. 4. 5.]\n"
          ]
        }
      ]
    },
    {
      "cell_type": "markdown",
      "source": [
        "Q5"
      ],
      "metadata": {
        "id": "968gqflasPAG"
      }
    },
    {
      "cell_type": "code",
      "source": [
        "def convert_to_float32(arr):\n",
        "  return arr.astype(np.float32)\n",
        "# EX\n",
        "arr = np.array([1.2345678901234567, 2.3456789012345678], dtype=np.float64)\n",
        "arr_float32 = convert_to_float32(arr)\n",
        "print(arr_float32)"
      ],
      "metadata": {
        "colab": {
          "base_uri": "https://localhost:8080/"
        },
        "id": "EShjq5rCmWbw",
        "outputId": "1028a823-9120-4b74-8456-cf2afbdaa9ba"
      },
      "execution_count": 9,
      "outputs": [
        {
          "output_type": "stream",
          "name": "stdout",
          "text": [
            "[1.2345679 2.3456788]\n"
          ]
        }
      ]
    },
    {
      "cell_type": "markdown",
      "source": [
        "Q6"
      ],
      "metadata": {
        "id": "DDRAzz52sQuA"
      }
    },
    {
      "cell_type": "code",
      "source": [
        "def array_attributes(arr):\n",
        "  return arr.shape, arr.size, arr.dtype\n",
        "# EX\n",
        "arr = np.array([[1, 2, 3], [4, 5, 6]])\n",
        "print(array_attributes(arr))"
      ],
      "metadata": {
        "colab": {
          "base_uri": "https://localhost:8080/"
        },
        "id": "JxGwFh0MmWYZ",
        "outputId": "9bf6e364-bf85-44eb-ce08-3935de291f10"
      },
      "execution_count": 10,
      "outputs": [
        {
          "output_type": "stream",
          "name": "stdout",
          "text": [
            "((2, 3), 6, dtype('int64'))\n"
          ]
        }
      ]
    },
    {
      "cell_type": "markdown",
      "source": [
        "Q7"
      ],
      "metadata": {
        "id": "SACP_pITsSVQ"
      }
    },
    {
      "cell_type": "code",
      "source": [
        "def array_dimension(arr):\n",
        "  return arr.ndim\n",
        "# EX\n",
        "arr = np.array([[1, 2, 3], [4, 5, 6]])\n",
        "print(array_dimension(arr))"
      ],
      "metadata": {
        "colab": {
          "base_uri": "https://localhost:8080/"
        },
        "id": "kkVn9knlmWWL",
        "outputId": "c50b2214-b1ce-474d-b251-62b06dd9be64"
      },
      "execution_count": 11,
      "outputs": [
        {
          "output_type": "stream",
          "name": "stdout",
          "text": [
            "2\n"
          ]
        }
      ]
    },
    {
      "cell_type": "markdown",
      "source": [
        "Q8\n"
      ],
      "metadata": {
        "id": "itRf5yOBsTuj"
      }
    },
    {
      "cell_type": "code",
      "source": [
        "def item_size_info(arr):\n",
        "  return arr.itemsize, arr.nbytes\n",
        "# EX\n",
        "arr = np.array([[1, 2, 3], [4, 5, 6]])\n",
        "print(item_size_info(arr))"
      ],
      "metadata": {
        "colab": {
          "base_uri": "https://localhost:8080/"
        },
        "id": "uELpTI72mWUE",
        "outputId": "9fe604b7-0087-4604-f62d-6fd031d9f5a6"
      },
      "execution_count": 13,
      "outputs": [
        {
          "output_type": "stream",
          "name": "stdout",
          "text": [
            "(8, 48)\n"
          ]
        }
      ]
    },
    {
      "cell_type": "markdown",
      "source": [
        "Q9"
      ],
      "metadata": {
        "id": "lq9Z-VGWtaXe"
      }
    },
    {
      "cell_type": "code",
      "source": [
        "def array_strides(arr):\n",
        "  return arr.strides\n",
        "# EX\n",
        "arr = np.array([[1, 2, 3], [4, 5, 6]])\n",
        "print(array_strides(arr))"
      ],
      "metadata": {
        "colab": {
          "base_uri": "https://localhost:8080/"
        },
        "id": "NYV1boPjmWRy",
        "outputId": "32ef00a6-3283-4129-e97b-41dbf3ec08cd"
      },
      "execution_count": 14,
      "outputs": [
        {
          "output_type": "stream",
          "name": "stdout",
          "text": [
            "(24, 8)\n"
          ]
        }
      ]
    },
    {
      "cell_type": "markdown",
      "source": [
        "Q10"
      ],
      "metadata": {
        "id": "TXlMyFMdtgSM"
      }
    },
    {
      "cell_type": "code",
      "source": [
        "def shape_stride_relationship(arr):\n",
        "  return arr.shape, arr.strides\n",
        "# EX\n",
        "arr = np.array([[1, 2, 3], [4, 5, 6]])\n",
        "print(shape_stride_relationship(arr))\n"
      ],
      "metadata": {
        "colab": {
          "base_uri": "https://localhost:8080/"
        },
        "id": "tf9GY4brmWPk",
        "outputId": "8e58545f-74f8-4b6d-8e2b-7caa94025ba8"
      },
      "execution_count": 15,
      "outputs": [
        {
          "output_type": "stream",
          "name": "stdout",
          "text": [
            "((2, 3), (24, 8))\n"
          ]
        }
      ]
    },
    {
      "cell_type": "markdown",
      "source": [
        "Q11"
      ],
      "metadata": {
        "id": "4K4fyYdbtkSu"
      }
    },
    {
      "cell_type": "code",
      "source": [
        "def create_zeros_array(n):\n",
        "  return np.zeros(n)\n",
        "# EX\n",
        "print(create_zeros_array(5))"
      ],
      "metadata": {
        "colab": {
          "base_uri": "https://localhost:8080/"
        },
        "id": "u0YurVpBmWNV",
        "outputId": "30f4c404-3ca0-4b4f-dc40-f4e31ed9e579"
      },
      "execution_count": 16,
      "outputs": [
        {
          "output_type": "stream",
          "name": "stdout",
          "text": [
            "[0. 0. 0. 0. 0.]\n"
          ]
        }
      ]
    },
    {
      "cell_type": "markdown",
      "source": [
        "Q12"
      ],
      "metadata": {
        "id": "nyMZNgDvtlzc"
      }
    },
    {
      "cell_type": "code",
      "source": [
        "def create_ones_matrix(rows, cols):\n",
        "  return np.ones((rows, cols))\n",
        "# EX\n",
        "print(create_ones_matrix(3, 4))"
      ],
      "metadata": {
        "colab": {
          "base_uri": "https://localhost:8080/"
        },
        "id": "_BCZ4ngrmWIr",
        "outputId": "ab1f5a35-68a2-420a-99bd-15e1979acff6"
      },
      "execution_count": 17,
      "outputs": [
        {
          "output_type": "stream",
          "name": "stdout",
          "text": [
            "[[1. 1. 1. 1.]\n",
            " [1. 1. 1. 1.]\n",
            " [1. 1. 1. 1.]]\n"
          ]
        }
      ]
    },
    {
      "cell_type": "markdown",
      "source": [
        "Q13"
      ],
      "metadata": {
        "id": "1a5Wh9Qhtm7y"
      }
    },
    {
      "cell_type": "code",
      "source": [
        "def generate_range_array(start, stop, step):\n",
        "  return np.arange(start, stop, step)\n",
        "# EX:\n",
        "print(generate_range_array(0, 10, 2))"
      ],
      "metadata": {
        "colab": {
          "base_uri": "https://localhost:8080/"
        },
        "id": "djfLmQgBmV_B",
        "outputId": "db7378cf-9571-4abc-cc71-88d51c6c7f51"
      },
      "execution_count": 18,
      "outputs": [
        {
          "output_type": "stream",
          "name": "stdout",
          "text": [
            "[0 2 4 6 8]\n"
          ]
        }
      ]
    },
    {
      "cell_type": "markdown",
      "source": [
        "Q14"
      ],
      "metadata": {
        "id": "VGZ0CRfftoAp"
      }
    },
    {
      "cell_type": "code",
      "source": [
        "def generate_linear_space(start, stop, num):\n",
        "  return np.linspace(start, stop, num)\n",
        "# EX:\n",
        "print(generate_linear_space(0.0, 1.0, 5))"
      ],
      "metadata": {
        "colab": {
          "base_uri": "https://localhost:8080/"
        },
        "id": "97ROWv-Tm1Bl",
        "outputId": "ea5638ba-1792-443e-bf9e-a5194acdfa32"
      },
      "execution_count": 19,
      "outputs": [
        {
          "output_type": "stream",
          "name": "stdout",
          "text": [
            "[0.   0.25 0.5  0.75 1.  ]\n"
          ]
        }
      ]
    },
    {
      "cell_type": "markdown",
      "source": [
        "Q15"
      ],
      "metadata": {
        "id": "wdFWmNjztqDl"
      }
    },
    {
      "cell_type": "code",
      "source": [
        "def create_identity_matrix(n):\n",
        "  return np.eye(n)\n",
        "# EX:\n",
        "print(create_identity_matrix(3))"
      ],
      "metadata": {
        "colab": {
          "base_uri": "https://localhost:8080/"
        },
        "id": "DtqS4Musm3hH",
        "outputId": "f35001ca-686b-46a1-a015-5e05988af9a9"
      },
      "execution_count": 20,
      "outputs": [
        {
          "output_type": "stream",
          "name": "stdout",
          "text": [
            "[[1. 0. 0.]\n",
            " [0. 1. 0.]\n",
            " [0. 0. 1.]]\n"
          ]
        }
      ]
    },
    {
      "cell_type": "markdown",
      "source": [
        "Q16"
      ],
      "metadata": {
        "id": "q58lccbRtrK5"
      }
    },
    {
      "cell_type": "code",
      "source": [
        "def list_to_numpy_array(lst):\n",
        "  return np.array(lst)\n",
        "# EX:\n",
        "lst = [1, 2, 3, 4]\n",
        "print(list_to_numpy_array(lst))\n"
      ],
      "metadata": {
        "colab": {
          "base_uri": "https://localhost:8080/"
        },
        "id": "f5A43wX3m3e4",
        "outputId": "dd71f2e6-2e4f-46c0-9222-3efa55ac2633"
      },
      "execution_count": 21,
      "outputs": [
        {
          "output_type": "stream",
          "name": "stdout",
          "text": [
            "[1 2 3 4]\n"
          ]
        }
      ]
    },
    {
      "cell_type": "markdown",
      "source": [
        "Q17"
      ],
      "metadata": {
        "id": "uvykZKwNtvtv"
      }
    },
    {
      "cell_type": "code",
      "source": [
        "arr = np.array([1, 2, 3, 4])\n",
        "view_arr = arr.view()\n",
        "print(\"Original array:\", arr)\n",
        "print(\"View of the array:\", view_arr)\n"
      ],
      "metadata": {
        "colab": {
          "base_uri": "https://localhost:8080/"
        },
        "id": "DNMcRWOpm40i",
        "outputId": "be5c2fc8-2002-4535-c21a-25d2ffc75511"
      },
      "execution_count": 12,
      "outputs": [
        {
          "output_type": "stream",
          "name": "stdout",
          "text": [
            "Original array: [1 2 3 4]\n",
            "View of the array: [1 2 3 4]\n"
          ]
        }
      ]
    },
    {
      "cell_type": "markdown",
      "source": [
        "Q18"
      ],
      "metadata": {
        "id": "wSOsRHSgtx2O"
      }
    },
    {
      "cell_type": "code",
      "source": [
        "def concatenate_arrays(arr1, arr2, axis=0):\n",
        "  return np.concatenate((arr1, arr2), axis=axis)\n",
        "# EX\n",
        "arr1 = np.array([[1, 2], [3, 4]])\n",
        "arr2 = np.array([[5, 6], [7, 8]])\n",
        "print(concatenate_arrays(arr1, arr2, axis=0))"
      ],
      "metadata": {
        "colab": {
          "base_uri": "https://localhost:8080/"
        },
        "id": "Vtocd9eZm3cZ",
        "outputId": "c803d4a7-1bdd-406f-89fe-8376954fb0bc"
      },
      "execution_count": 22,
      "outputs": [
        {
          "output_type": "stream",
          "name": "stdout",
          "text": [
            "[[1 2]\n",
            " [3 4]\n",
            " [5 6]\n",
            " [7 8]]\n"
          ]
        }
      ]
    },
    {
      "cell_type": "markdown",
      "source": [
        "Q19"
      ],
      "metadata": {
        "id": "5MhQmaNIt-gJ"
      }
    },
    {
      "cell_type": "code",
      "source": [
        "def concatenate_horizontally(arr1, arr2):\n",
        "  return np.concatenate((arr1, arr2), axis=1)\n",
        "# EX\n",
        "arr1 = np.array([[1, 2], [3, 4]])\n",
        "arr2 = np.array([[5], [6]])\n",
        "print(concatenate_horizontally(arr1, arr2))"
      ],
      "metadata": {
        "colab": {
          "base_uri": "https://localhost:8080/"
        },
        "id": "fku4Cr1YnAiT",
        "outputId": "f59f9db4-18b0-46b6-ffc0-b38377bb95f5"
      },
      "execution_count": 23,
      "outputs": [
        {
          "output_type": "stream",
          "name": "stdout",
          "text": [
            "[[1 2 5]\n",
            " [3 4 6]]\n"
          ]
        }
      ]
    },
    {
      "cell_type": "markdown",
      "source": [
        "Q20"
      ],
      "metadata": {
        "id": "oqtkueVNuCUW"
      }
    },
    {
      "cell_type": "code",
      "source": [
        "def vertical_stack(arrays):\n",
        "  return np.vstack(arrays)\n",
        "# EX:\n",
        "arr1 = np.array([1, 2])\n",
        "arr2 = np.array([3, 4])\n",
        "print(vertical_stack([arr1, arr2]))"
      ],
      "metadata": {
        "colab": {
          "base_uri": "https://localhost:8080/"
        },
        "id": "QyMSFXh9nAfD",
        "outputId": "e71b0914-535a-4d48-e729-884016dee864"
      },
      "execution_count": 25,
      "outputs": [
        {
          "output_type": "stream",
          "name": "stdout",
          "text": [
            "[[1 2]\n",
            " [3 4]]\n"
          ]
        }
      ]
    },
    {
      "cell_type": "markdown",
      "source": [
        "Q21"
      ],
      "metadata": {
        "id": "aHudiAafuJX1"
      }
    },
    {
      "cell_type": "code",
      "source": [
        "def create_integer_range(start, stop, step):\n",
        "  return np.arange(start, stop + 1, step)\n",
        "# EX\n",
        "print(create_integer_range(0, 10, 2))"
      ],
      "metadata": {
        "colab": {
          "base_uri": "https://localhost:8080/"
        },
        "id": "3ZSR-COhnAc_",
        "outputId": "48f2f333-4edf-40f3-b56e-87755f23e70b"
      },
      "execution_count": 24,
      "outputs": [
        {
          "output_type": "stream",
          "name": "stdout",
          "text": [
            "[ 0  2  4  6  8 10]\n"
          ]
        }
      ]
    },
    {
      "cell_type": "markdown",
      "source": [
        "Q22"
      ],
      "metadata": {
        "id": "cBv4yFBJuLBI"
      }
    },
    {
      "cell_type": "code",
      "source": [
        "def generate_equal_spacing():\n",
        "  return np.linspace(0, 1, 10)\n",
        "# EX\n",
        "print(generate_equal_spacing())"
      ],
      "metadata": {
        "colab": {
          "base_uri": "https://localhost:8080/"
        },
        "id": "eM-xKhOmnAYN",
        "outputId": "df5ccb1c-e077-43d7-e805-60b9e0309f63"
      },
      "execution_count": 26,
      "outputs": [
        {
          "output_type": "stream",
          "name": "stdout",
          "text": [
            "[0.         0.11111111 0.22222222 0.33333333 0.44444444 0.55555556\n",
            " 0.66666667 0.77777778 0.88888889 1.        ]\n"
          ]
        }
      ]
    },
    {
      "cell_type": "markdown",
      "source": [
        "Q23"
      ],
      "metadata": {
        "id": "UIrecBEeuSZ7"
      }
    },
    {
      "cell_type": "code",
      "source": [
        "def generate_log_spacing():\n",
        "  return np.logspace(0, 3, 5, base=10.0)\n",
        "# EX\n",
        "5\n",
        "print(generate_log_spacing())"
      ],
      "metadata": {
        "colab": {
          "base_uri": "https://localhost:8080/"
        },
        "id": "8ivV8b9AnAWZ",
        "outputId": "829edc9e-491c-4420-90d0-a305d4034add"
      },
      "execution_count": 28,
      "outputs": [
        {
          "output_type": "stream",
          "name": "stdout",
          "text": [
            "[   1.            5.62341325   31.6227766   177.827941   1000.        ]\n"
          ]
        }
      ]
    },
    {
      "cell_type": "markdown",
      "source": [
        "Q24"
      ],
      "metadata": {
        "id": "BmPM2gxEuT30"
      }
    },
    {
      "cell_type": "code",
      "source": [
        "import pandas as pd\n",
        "def create_random_dataframe():\n",
        "  arr = np.random.randint(1, 101, size=(5, 3))\n",
        "  df = pd.DataFrame(arr, columns=['Column1', 'Column2', 'Column3'])\n",
        "  return df\n",
        "# EX\n",
        "print(create_random_dataframe())"
      ],
      "metadata": {
        "colab": {
          "base_uri": "https://localhost:8080/"
        },
        "id": "Ht4hrD9ynAUD",
        "outputId": "0b17fc78-694b-4354-db4b-21a0fbf9f2c0"
      },
      "execution_count": 31,
      "outputs": [
        {
          "output_type": "stream",
          "name": "stdout",
          "text": [
            "   Column1  Column2  Column3\n",
            "0       71       88       41\n",
            "1       18       93       12\n",
            "2       99       29       34\n",
            "3       97        5       25\n",
            "4       19       26       89\n"
          ]
        }
      ]
    },
    {
      "cell_type": "markdown",
      "source": [
        "Q25"
      ],
      "metadata": {
        "id": "u-5zOYWiuVeW"
      }
    },
    {
      "cell_type": "code",
      "source": [
        "def replace_negatives_with_zero(df, column):\n",
        "  df[column] = np.where(df[column] < 0, 0, df[column])\n",
        "  return df\n",
        "# EX\n",
        "df = pd.DataFrame({\n",
        "'A': [1, -2, 3, -4],\n",
        "'B': [-1, 2, -3, 4]\n",
        "})\n",
        "print(replace_negatives_with_zero(df, 'A'))\n"
      ],
      "metadata": {
        "colab": {
          "base_uri": "https://localhost:8080/"
        },
        "id": "kfZP_GNdnAPc",
        "outputId": "f944e810-bd64-4b34-e1df-4f0bf554b1c7"
      },
      "execution_count": 32,
      "outputs": [
        {
          "output_type": "stream",
          "name": "stdout",
          "text": [
            "   A  B\n",
            "0  1 -1\n",
            "1  0  2\n",
            "2  3 -3\n",
            "3  0  4\n"
          ]
        }
      ]
    },
    {
      "cell_type": "markdown",
      "source": [
        "Q26"
      ],
      "metadata": {
        "id": "v_nGfe18tEUS"
      }
    },
    {
      "cell_type": "code",
      "source": [
        "def access_third_element(arr):\n",
        "  return arr[2]\n",
        "# EX\n",
        "arr = np.array([10, 20, 30, 40, 50])\n",
        "print(access_third_element(arr))"
      ],
      "metadata": {
        "colab": {
          "base_uri": "https://localhost:8080/"
        },
        "id": "aExhuKTdnANL",
        "outputId": "b3336630-7c3d-4315-d002-37b73bf2a9a3"
      },
      "execution_count": 33,
      "outputs": [
        {
          "output_type": "stream",
          "name": "stdout",
          "text": [
            "30\n"
          ]
        }
      ]
    },
    {
      "cell_type": "markdown",
      "source": [
        "Q27"
      ],
      "metadata": {
        "id": "nMS739iVvhJq"
      }
    },
    {
      "cell_type": "code",
      "source": [
        "def access_element_2d(arr):\n",
        "  return arr[1, 2]\n",
        "# EX:\n",
        "arr = np.array([[1, 2, 3], [4, 5, 6], [7, 8, 9]])\n",
        "print(access_element_2d(arr))\n"
      ],
      "metadata": {
        "colab": {
          "base_uri": "https://localhost:8080/"
        },
        "id": "VEf3nrZ2nAK6",
        "outputId": "162b5650-ad8b-470e-cfe2-84a698dd1de1"
      },
      "execution_count": 34,
      "outputs": [
        {
          "output_type": "stream",
          "name": "stdout",
          "text": [
            "6\n"
          ]
        }
      ]
    },
    {
      "cell_type": "markdown",
      "source": [
        "Q28"
      ],
      "metadata": {
        "id": "p3N9Lb-avoUj"
      }
    },
    {
      "cell_type": "code",
      "source": [
        "def extract_elements_gt_5(arr):\n",
        "  return arr[arr > 5]\n",
        "# EX:\n",
        "arr = np.array([3, 8, 2, 10, 5, 7])\n",
        "print(extract_elements_gt_5(arr))\n"
      ],
      "metadata": {
        "colab": {
          "base_uri": "https://localhost:8080/"
        },
        "id": "yrukkdqrnAIs",
        "outputId": "e38e81ad-7d35-4f78-ee66-a850e7687b44"
      },
      "execution_count": 35,
      "outputs": [
        {
          "output_type": "stream",
          "name": "stdout",
          "text": [
            "[ 8 10  7]\n"
          ]
        }
      ]
    },
    {
      "cell_type": "markdown",
      "source": [
        "Q29"
      ],
      "metadata": {
        "id": "IkQDCk8xvt3G"
      }
    },
    {
      "cell_type": "code",
      "source": [
        "def slice_array(arr):\n",
        "  return arr[2:5]\n",
        "# EX:\n",
        "arr = np.array([1, 2, 3, 4, 5, 6, 7, 8, 9])\n",
        "print(slice_array(arr))"
      ],
      "metadata": {
        "colab": {
          "base_uri": "https://localhost:8080/"
        },
        "id": "zJyAszP6nAF6",
        "outputId": "f68477a5-a60e-4215-9a50-76844a3e4ddd"
      },
      "execution_count": 36,
      "outputs": [
        {
          "output_type": "stream",
          "name": "stdout",
          "text": [
            "[3 4 5]\n"
          ]
        }
      ]
    },
    {
      "cell_type": "markdown",
      "source": [
        "Q30"
      ],
      "metadata": {
        "id": "et1NGz7nvxrw"
      }
    },
    {
      "cell_type": "code",
      "source": [
        "def slice_2d_array(arr):\n",
        "  return arr[0:2, 1:3]\n",
        "# Ex\n",
        "arr = np.array([[1, 2, 3], [4, 5, 6], [7, 8, 9]])\n",
        "print(slice_2d_array(arr))\n"
      ],
      "metadata": {
        "colab": {
          "base_uri": "https://localhost:8080/"
        },
        "id": "smc-tU9anADq",
        "outputId": "e7330023-2d98-4018-fb1d-a0b3dfbd14c6"
      },
      "execution_count": 37,
      "outputs": [
        {
          "output_type": "stream",
          "name": "stdout",
          "text": [
            "[[2 3]\n",
            " [5 6]]\n"
          ]
        }
      ]
    },
    {
      "cell_type": "markdown",
      "source": [
        "Q31"
      ],
      "metadata": {
        "id": "qyxpzDR7wD3H"
      }
    },
    {
      "cell_type": "code",
      "source": [
        "def extract_specific_order(arr, indices):\n",
        "  return arr[indices]\n",
        "\n",
        "# EX\n",
        "arr = np.array([[1, 2, 3], [4, 5, 6], [7, 8, 9]])\n",
        "indices = np.array([0, 2])\n",
        "print(extract_specific_order(arr, indices))"
      ],
      "metadata": {
        "colab": {
          "base_uri": "https://localhost:8080/"
        },
        "id": "agm9OTuvpoR2",
        "outputId": "7e213ff2-bf77-4779-954f-6399c089bbd5"
      },
      "execution_count": 38,
      "outputs": [
        {
          "output_type": "stream",
          "name": "stdout",
          "text": [
            "[[1 2 3]\n",
            " [7 8 9]]\n"
          ]
        }
      ]
    },
    {
      "cell_type": "markdown",
      "source": [
        "Q32"
      ],
      "metadata": {
        "id": "AqQ8SjyQw1my"
      }
    },
    {
      "cell_type": "code",
      "source": [
        "def filter_greater_than(arr, threshold):\n",
        "  return arr[arr > threshold]\n",
        "# EX:\n",
        "arr = np.array([1, 3, 7, 2, 5])\n",
        "print(filter_greater_than(arr, 3))"
      ],
      "metadata": {
        "colab": {
          "base_uri": "https://localhost:8080/"
        },
        "id": "-27Q5fzIpp9F",
        "outputId": "131238d1-d8a4-4101-e69a-a46dc5dc378b"
      },
      "execution_count": 39,
      "outputs": [
        {
          "output_type": "stream",
          "name": "stdout",
          "text": [
            "[7 5]\n"
          ]
        }
      ]
    },
    {
      "cell_type": "markdown",
      "source": [
        "Q33"
      ],
      "metadata": {
        "id": "j_qgMGBZx9N_"
      }
    },
    {
      "cell_type": "code",
      "source": [
        "def extract_elements_3d(arr, x_indices, y_indices, z_indices):\n",
        "  return arr[x_indices, y_indices, z_indices]\n",
        "# EX\n",
        "arr = np.random.randint(1, 10, size=(3, 3, 3))\n",
        "x_indices = np.array([0, 1])\n",
        "y_indices = np.array([1, 2])\n",
        "z_indices = np.array([2, 0])\n",
        "print(extract_elements_3d(arr, x_indices, y_indices, z_indices))"
      ],
      "metadata": {
        "colab": {
          "base_uri": "https://localhost:8080/"
        },
        "id": "CihAke-eptAp",
        "outputId": "9319a9bf-a60d-4637-c04a-42ce8eb0ce14"
      },
      "execution_count": 41,
      "outputs": [
        {
          "output_type": "stream",
          "name": "stdout",
          "text": [
            "[4 3]\n"
          ]
        }
      ]
    },
    {
      "cell_type": "markdown",
      "source": [
        "Q34"
      ],
      "metadata": {
        "id": "NLT3KV3pydNG"
      }
    },
    {
      "cell_type": "code",
      "source": [
        "def filter_two_conditions(arr, cond1, cond2):\n",
        "  return arr[(arr > cond1) & (arr < cond2)]\n",
        "# EX:\n",
        "arr = np.array([1, 3, 7, 2, 5])\n",
        "print(filter_two_conditions(arr, 2, 6))"
      ],
      "metadata": {
        "colab": {
          "base_uri": "https://localhost:8080/"
        },
        "id": "kKBFo5qMpxWS",
        "outputId": "cb53d62e-366a-44a9-9ffb-cb1d94e65639"
      },
      "execution_count": 42,
      "outputs": [
        {
          "output_type": "stream",
          "name": "stdout",
          "text": [
            "[3 5]\n"
          ]
        }
      ]
    },
    {
      "cell_type": "markdown",
      "source": [
        "Q35"
      ],
      "metadata": {
        "id": "LMke4usc36dF"
      }
    },
    {
      "cell_type": "code",
      "source": [
        "def extract_using_indices(arr, row_indices, col_indices):\n",
        "  return arr[row_indices, col_indices]\n",
        "# Ex\n",
        "arr = np.array([[1, 2, 3], [4, 5, 6], [7, 8, 9]])\n",
        "row_indices = np.array([0, 2])\n",
        "col_indices = np.array([1, 0])\n",
        "print(extract_using_indices(arr, row_indices, col_indices))"
      ],
      "metadata": {
        "colab": {
          "base_uri": "https://localhost:8080/"
        },
        "id": "2uhLmUyJpxS5",
        "outputId": "6358488e-bb5c-4eb4-e194-c61801d5172b"
      },
      "execution_count": 43,
      "outputs": [
        {
          "output_type": "stream",
          "name": "stdout",
          "text": [
            "[2 7]\n"
          ]
        }
      ]
    },
    {
      "cell_type": "markdown",
      "source": [
        "Q36"
      ],
      "metadata": {
        "id": "dnzIhlZz37sL"
      }
    },
    {
      "cell_type": "code",
      "source": [
        "def add_scalar(arr, scalar):\n",
        "  return arr + scalar\n",
        "# Ex\n",
        "arr = np.array([[1, 2, 3], [4, 5, 6], [7, 8, 9]])\n",
        "print(add_scalar(arr, 5))"
      ],
      "metadata": {
        "colab": {
          "base_uri": "https://localhost:8080/"
        },
        "id": "si25MMo1pxQg",
        "outputId": "1e7a8e62-43c2-44d0-fd48-40fba21e7a8c"
      },
      "execution_count": 44,
      "outputs": [
        {
          "output_type": "stream",
          "name": "stdout",
          "text": [
            "[[ 6  7  8]\n",
            " [ 9 10 11]\n",
            " [12 13 14]]\n"
          ]
        }
      ]
    },
    {
      "cell_type": "markdown",
      "source": [
        "Q37"
      ],
      "metadata": {
        "id": "7Hqp9g_o3-Uy"
      }
    },
    {
      "cell_type": "code",
      "source": [
        "def multiply_broadcast(arr1, arr2):\n",
        "  return arr2 * arr1.T\n",
        "# Ex\n",
        "arr1 = np.array([[1, 2, 3]])\n",
        "arr2 = np.array([[4, 5, 6, 7], [8, 9, 10, 11], [12, 13, 14, 15]])\n",
        "print(multiply_broadcast(arr1, arr2))\n"
      ],
      "metadata": {
        "colab": {
          "base_uri": "https://localhost:8080/"
        },
        "id": "m5Z-jMgNpxM8",
        "outputId": "a6b309ba-545b-470b-f3b7-33bd39797104"
      },
      "execution_count": 45,
      "outputs": [
        {
          "output_type": "stream",
          "name": "stdout",
          "text": [
            "[[ 4  5  6  7]\n",
            " [16 18 20 22]\n",
            " [36 39 42 45]]\n"
          ]
        }
      ]
    },
    {
      "cell_type": "markdown",
      "source": [
        "Q38"
      ],
      "metadata": {
        "id": "FDoUlmTm3_ll"
      }
    },
    {
      "cell_type": "code",
      "source": [
        "def add_broadcast(arr1, arr2):\n",
        "  return arr2 + arr1.T\n",
        "# Ex\n",
        "arr1 = np.array([[1, 2, 3]])\n",
        "arr2 = np.array([[4, 5, 6, 7], [8, 9, 10, 11], [12, 13, 14, 15]])\n",
        "print(add_broadcast(arr1, arr2))"
      ],
      "metadata": {
        "colab": {
          "base_uri": "https://localhost:8080/"
        },
        "id": "3IyiQtjcpxJv",
        "outputId": "496feb42-3b1d-46c7-8374-f478c5dff2a4"
      },
      "execution_count": 46,
      "outputs": [
        {
          "output_type": "stream",
          "name": "stdout",
          "text": [
            "[[ 5  6  7  8]\n",
            " [10 11 12 13]\n",
            " [15 16 17 18]]\n"
          ]
        }
      ]
    },
    {
      "cell_type": "markdown",
      "source": [
        "Q39"
      ],
      "metadata": {
        "id": "--dr-Far4A4y"
      }
    },
    {
      "cell_type": "code",
      "source": [
        "def add_arrays_broadcast(arr1, arr2):\n",
        "  return arr1 + arr2\n",
        "# Ex\n",
        "arr1 = np.array([[1], [2], [3]])\n",
        "arr2 = np.array([[4, 5, 6]])\n",
        "print(add_arrays_broadcast(arr1, arr2))\n"
      ],
      "metadata": {
        "colab": {
          "base_uri": "https://localhost:8080/"
        },
        "id": "-yy0WPZoqN5K",
        "outputId": "6ac4d526-31a6-4101-bbf5-a5092229c86e"
      },
      "execution_count": 47,
      "outputs": [
        {
          "output_type": "stream",
          "name": "stdout",
          "text": [
            "[[5 6 7]\n",
            " [6 7 8]\n",
            " [7 8 9]]\n"
          ]
        }
      ]
    },
    {
      "cell_type": "markdown",
      "source": [
        "Q40"
      ],
      "metadata": {
        "id": "EL7xif064DBg"
      }
    },
    {
      "cell_type": "code",
      "source": [
        "def multiply_with_broadcasting(arr1, arr2):\n",
        "  arr2_broadcasted = np.broadcast_to(arr2[:, :1], arr1.shape)\n",
        "  return arr1 * arr2_broadcasted\n",
        "# Ex\n",
        "arr1 = np.array([[1, 2, 3], [4, 5, 6]])\n",
        "arr2 = np.array([[7, 8], [9, 10]])\n",
        "print(multiply_with_broadcasting(arr1, arr2))\n"
      ],
      "metadata": {
        "colab": {
          "base_uri": "https://localhost:8080/"
        },
        "id": "6l44tsJmqN1y",
        "outputId": "6765559d-5fe4-4015-99f4-12766369d9e7"
      },
      "execution_count": 48,
      "outputs": [
        {
          "output_type": "stream",
          "name": "stdout",
          "text": [
            "[[ 7 14 21]\n",
            " [36 45 54]]\n"
          ]
        }
      ]
    },
    {
      "cell_type": "markdown",
      "source": [
        "Q41"
      ],
      "metadata": {
        "id": "EbNl1Xi64Fg8"
      }
    },
    {
      "cell_type": "code",
      "source": [
        "def column_mean(arr):\n",
        "  return np.mean(arr, axis=0)\n",
        "# Ex\n",
        "arr = np.array([[1, 2, 3], [4, 5, 6]])\n",
        "print(column_mean(arr))\n"
      ],
      "metadata": {
        "colab": {
          "base_uri": "https://localhost:8080/"
        },
        "id": "SVXNcw9n4HHx",
        "outputId": "4184130b-48ac-4d50-8181-7b06afc2f6af"
      },
      "execution_count": 49,
      "outputs": [
        {
          "output_type": "stream",
          "name": "stdout",
          "text": [
            "[2.5 3.5 4.5]\n"
          ]
        }
      ]
    },
    {
      "cell_type": "markdown",
      "source": [
        "Q42"
      ],
      "metadata": {
        "id": "8m_tluv94Tlz"
      }
    },
    {
      "cell_type": "code",
      "source": [
        "def row_max(arr):\n",
        "  return np.max(arr, axis=1)\n",
        "# Ex:\n",
        "arr = np.array([[1, 2, 3], [4, 5, 6]])\n",
        "print(row_max(arr))"
      ],
      "metadata": {
        "colab": {
          "base_uri": "https://localhost:8080/"
        },
        "id": "scEz9UJfqNze",
        "outputId": "03a5ee7f-e506-4e63-e215-a560f9afda67"
      },
      "execution_count": 53,
      "outputs": [
        {
          "output_type": "stream",
          "name": "stdout",
          "text": [
            "[3 6]\n"
          ]
        }
      ]
    },
    {
      "cell_type": "markdown",
      "source": [
        "Q43"
      ],
      "metadata": {
        "id": "5QAXV_eu4VQG"
      }
    },
    {
      "cell_type": "code",
      "source": [
        "def max_value_indices(arr):\n",
        "  return np.argmax(arr, axis=0)\n",
        "10\n",
        "# Ex:\n",
        "arr = np.array([[1, 5, 3], [4, 2, 6]])\n",
        "print(max_value_indices(arr))"
      ],
      "metadata": {
        "colab": {
          "base_uri": "https://localhost:8080/"
        },
        "id": "vVRHN6uY4jkw",
        "outputId": "9d627d2c-c5ad-4ef5-f957-6c8420a5d68a"
      },
      "execution_count": 52,
      "outputs": [
        {
          "output_type": "stream",
          "name": "stdout",
          "text": [
            "[1 0 1]\n"
          ]
        }
      ]
    },
    {
      "cell_type": "markdown",
      "source": [
        "Q44"
      ],
      "metadata": {
        "id": "fSCRM2vw4nVq"
      }
    },
    {
      "cell_type": "code",
      "source": [
        "def moving_sum(arr, window):\n",
        "  return np.apply_along_axis(lambda m: np.convolve(m, np.ones(window,dtype=int), 'valid'), axis=1, arr=arr)\n",
        "# Ex:\n",
        "arr = np.array([[1, 2, 3], [4, 5, 6 ]])\n",
        "print(moving_sum(arr, 2))"
      ],
      "metadata": {
        "colab": {
          "base_uri": "https://localhost:8080/"
        },
        "id": "Om5JvT8s4jim",
        "outputId": "82365c3d-7819-4700-95b6-8427d7b3b3a9"
      },
      "execution_count": 51,
      "outputs": [
        {
          "output_type": "stream",
          "name": "stdout",
          "text": [
            "[[ 3  5]\n",
            " [ 9 11]]\n"
          ]
        }
      ]
    },
    {
      "cell_type": "markdown",
      "source": [
        "Q45"
      ],
      "metadata": {
        "id": "gPpjeO9o6V-i"
      }
    },
    {
      "cell_type": "code",
      "source": [
        "def check_even_columns(arr):\n",
        "  return np.all(arr % 2 == 0, axis=0)\n",
        "# Ex:\n",
        "arr = np.array([[2, 4, 6], [3, 5, 7]])\n",
        "print(check_even_columns(arr))"
      ],
      "metadata": {
        "colab": {
          "base_uri": "https://localhost:8080/"
        },
        "id": "O6qAe6Ds4jga",
        "outputId": "dd20e070-6c84-4bc1-da29-3a76169dc676"
      },
      "execution_count": 82,
      "outputs": [
        {
          "output_type": "stream",
          "name": "stdout",
          "text": [
            "[False False False]\n"
          ]
        }
      ]
    },
    {
      "cell_type": "markdown",
      "source": [
        "Q46"
      ],
      "metadata": {
        "id": "LgSGhBMY6Yhb"
      }
    },
    {
      "cell_type": "code",
      "source": [
        "def reshape_array(arr, m, n):\n",
        "  return arr.reshape(m, n)\n",
        "# Ex:\n",
        "arr = np.array([1, 2, 3, 4, 5, 6])\n",
        "print(reshape_array(arr, 2, 3))"
      ],
      "metadata": {
        "colab": {
          "base_uri": "https://localhost:8080/"
        },
        "id": "N3YWeD_m4jeF",
        "outputId": "7dd2375a-22b9-4f21-d727-2ba0de5fab02"
      },
      "execution_count": 80,
      "outputs": [
        {
          "output_type": "stream",
          "name": "stdout",
          "text": [
            "[[1 2 3]\n",
            " [4 5 6]]\n"
          ]
        }
      ]
    },
    {
      "cell_type": "markdown",
      "source": [
        "Q47"
      ],
      "metadata": {
        "id": "JRh_TRYm6Z0z"
      }
    },
    {
      "cell_type": "code",
      "source": [
        "def flatten_matrix(arr):\n",
        "  return arr.flatten()\n",
        "# Ex:\n",
        "arr = np.array([[1, 2, 3], [4, 5, 6]])\n",
        "print(flatten_matrix(arr))"
      ],
      "metadata": {
        "colab": {
          "base_uri": "https://localhost:8080/"
        },
        "id": "6iorDyeJ4jcT",
        "outputId": "96a757a5-dab4-4581-9d40-e2de71d8da84"
      },
      "execution_count": 81,
      "outputs": [
        {
          "output_type": "stream",
          "name": "stdout",
          "text": [
            "[1 2 3 4 5 6]\n"
          ]
        }
      ]
    },
    {
      "cell_type": "markdown",
      "source": [
        "Q48"
      ],
      "metadata": {
        "id": "Jc_x0eMU6a5b"
      }
    },
    {
      "cell_type": "code",
      "source": [
        "def concatenate_arrays(arr1, arr2, axis=0):\n",
        "  return np.concatenate((arr1, arr2), axis=axis)\n",
        "# Ex:\n",
        "arr1 = np.array([[1, 2], [3, 4]])\n",
        "arr2 = np.array([[5, 6], [7, 8]])\n",
        "print(concatenate_arrays(arr1, arr2, axis=1))\n"
      ],
      "metadata": {
        "colab": {
          "base_uri": "https://localhost:8080/"
        },
        "id": "h-MJKrSc4jZZ",
        "outputId": "8d8ee469-9167-44f8-bc31-7bdcf007eaf0"
      },
      "execution_count": 79,
      "outputs": [
        {
          "output_type": "stream",
          "name": "stdout",
          "text": [
            "[[1 2 5 6]\n",
            " [3 4 7 8]]\n"
          ]
        }
      ]
    },
    {
      "cell_type": "markdown",
      "source": [
        "Q49"
      ],
      "metadata": {
        "id": "pugPqzhB6caz"
      }
    },
    {
      "cell_type": "code",
      "source": [
        "def split_array(arr, indices, axis=0):\n",
        "  return np.split(arr, indices, axis=axis)\n",
        "# Example usage:\n",
        "arr = np.array([[1, 2, 3], [4, 5, 6], [7, 8, 9]])\n",
        "print(split_array(arr, [2], axis=1))"
      ],
      "metadata": {
        "colab": {
          "base_uri": "https://localhost:8080/"
        },
        "id": "_8oGb4aM4jXA",
        "outputId": "17656d58-869c-4f5c-b9c2-07ce79d34c80"
      },
      "execution_count": 78,
      "outputs": [
        {
          "output_type": "stream",
          "name": "stdout",
          "text": [
            "[array([[1, 2],\n",
            "       [4, 5],\n",
            "       [7, 8]]), array([[3],\n",
            "       [6],\n",
            "       [9]])]\n"
          ]
        }
      ]
    },
    {
      "cell_type": "markdown",
      "source": [
        "Q50"
      ],
      "metadata": {
        "id": "Zlrmfntj6dOf"
      }
    },
    {
      "cell_type": "code",
      "source": [
        "def insert_and_delete(arr, insert_indices, values_to_insert, delete_indices):\n",
        "  arr_inserted = np.insert(arr, insert_indices, values_to_insert)\n",
        "# Deleting elements at the specified indices\n",
        "  arr_deleted = np.delete(arr_inserted, delete_indices)\n",
        "  return arr_deleted\n",
        "# Ex:\n",
        "arr = np.array([1, 2, 3, 4, 5])\n",
        "insert_indices = [1, 3]\n",
        "values_to_insert = [10, 11]\n",
        "delete_indices = [2, 4]\n",
        "print(insert_and_delete(arr, insert_indices, values_to_insert, delete_indices))"
      ],
      "metadata": {
        "colab": {
          "base_uri": "https://localhost:8080/"
        },
        "id": "elBIiI_A4jUl",
        "outputId": "7c9fc41c-4ca5-48ea-efd4-ac11c6da4b6d"
      },
      "execution_count": 77,
      "outputs": [
        {
          "output_type": "stream",
          "name": "stdout",
          "text": [
            "[ 1 10  3  4  5]\n"
          ]
        }
      ]
    },
    {
      "cell_type": "markdown",
      "source": [
        "Q51"
      ],
      "metadata": {
        "id": "6AiekNx46g1K"
      }
    },
    {
      "cell_type": "code",
      "source": [
        "def elementwise_addition(arr1, arr2):\n",
        "  return arr1 + arr2\n",
        "12\n",
        "# Ex:\n",
        "arr1 = np.random.randint(1, 10, size=10)\n",
        "arr2 = np.arange(1, 11)\n",
        "print(elementwise_addition(arr1, arr2))"
      ],
      "metadata": {
        "id": "jX73pjbo4jSF"
      },
      "execution_count": null,
      "outputs": []
    },
    {
      "cell_type": "markdown",
      "source": [
        "Q52"
      ],
      "metadata": {
        "id": "DUOsuHpU6h9w"
      }
    },
    {
      "cell_type": "code",
      "source": [
        "def elementwise_subtraction(arr1, arr2):\n",
        "  return arr1 - arr2\n",
        "# Ex:\n",
        "arr1 = np.arange(10, 0, -1)\n",
        "arr2 = np.arange(1, 11)\n",
        "print(elementwise_subtraction(arr1, arr2))\n"
      ],
      "metadata": {
        "colab": {
          "base_uri": "https://localhost:8080/"
        },
        "id": "WEgVeKVe4jPl",
        "outputId": "c5b19576-8900-4f6f-df03-ff182f4e9e56"
      },
      "execution_count": 75,
      "outputs": [
        {
          "output_type": "stream",
          "name": "stdout",
          "text": [
            "[ 9  7  5  3  1 -1 -3 -5 -7 -9]\n"
          ]
        }
      ]
    },
    {
      "cell_type": "markdown",
      "source": [
        "Q53"
      ],
      "metadata": {
        "id": "31Wtm7MV6i6x"
      }
    },
    {
      "cell_type": "code",
      "source": [
        "def elementwise_multiplication(arr1, arr2):\n",
        "  return arr1 * arr2\n",
        "# Ex:\n",
        "arr1 = np.random.randint(1, 10, size=5)\n",
        "arr2 = np.arange(1, 6)\n",
        "print(elementwise_multiplication(arr1, arr2))"
      ],
      "metadata": {
        "colab": {
          "base_uri": "https://localhost:8080/"
        },
        "id": "p84ke70k4jNC",
        "outputId": "a83fbe8e-066e-4598-e1c0-0132b381b789"
      },
      "execution_count": 74,
      "outputs": [
        {
          "output_type": "stream",
          "name": "stdout",
          "text": [
            "[ 8 12 18 28 35]\n"
          ]
        }
      ]
    },
    {
      "cell_type": "markdown",
      "source": [
        "Q54"
      ],
      "metadata": {
        "id": "W0HRY8rK6kQA"
      }
    },
    {
      "cell_type": "code",
      "source": [
        "def elementwise_division(arr1, arr2):\n",
        "  return arr1 / arr2\n",
        "# Ex:\n",
        "arr1 = np.arange(2, 11, 2)\n",
        "arr2 = np.arange(1, 6)\n",
        "print(elementwise_division(arr1, arr2))\n"
      ],
      "metadata": {
        "colab": {
          "base_uri": "https://localhost:8080/"
        },
        "id": "jz-iRSKQ4jKi",
        "outputId": "47868ec9-6a7f-41a9-abcb-0977920e8a1b"
      },
      "execution_count": 73,
      "outputs": [
        {
          "output_type": "stream",
          "name": "stdout",
          "text": [
            "[2. 2. 2. 2. 2.]\n"
          ]
        }
      ]
    },
    {
      "cell_type": "markdown",
      "source": [
        "Q55"
      ],
      "metadata": {
        "id": "OIzCXAnP6luF"
      }
    },
    {
      "cell_type": "code",
      "source": [
        "def elementwise_exponentiation(arr1, arr2):\n",
        "  return arr1 ** arr2\n",
        "# Ex:\n",
        "arr1 = np.array([1, 2, 3, 4, 5])\n",
        "arr2 = np.array([5, 4, 3, 2, 1])\n",
        "13\n",
        "print(elementwise_exponentiation(arr1, arr2))\n"
      ],
      "metadata": {
        "colab": {
          "base_uri": "https://localhost:8080/"
        },
        "id": "5yeKYqzN4jIM",
        "outputId": "2c19ec43-c985-45d6-fee1-c28e2811619f"
      },
      "execution_count": 69,
      "outputs": [
        {
          "output_type": "stream",
          "name": "stdout",
          "text": [
            "[ 1 16 27 16  5]\n"
          ]
        }
      ]
    },
    {
      "cell_type": "markdown",
      "source": [
        "Q56"
      ],
      "metadata": {
        "id": "LGhTW_MS6nO-"
      }
    },
    {
      "cell_type": "code",
      "source": [
        "def count_substring(arr, substring):\n",
        "  return np.char.count(arr, substring)\n",
        "# Ex:\n",
        "arr = np.array(['apple', 'banana', 'applepie', 'pineapple'])\n",
        "print(count_substring(arr, 'apple'))"
      ],
      "metadata": {
        "colab": {
          "base_uri": "https://localhost:8080/"
        },
        "id": "ZZhOdDUX4jFi",
        "outputId": "aee9b822-2205-422b-d71e-faca6d3757a4"
      },
      "execution_count": 70,
      "outputs": [
        {
          "output_type": "stream",
          "name": "stdout",
          "text": [
            "[1 0 1 1]\n"
          ]
        }
      ]
    },
    {
      "cell_type": "markdown",
      "source": [
        "Q57"
      ],
      "metadata": {
        "id": "jlaS3H0q6o6u"
      }
    },
    {
      "cell_type": "code",
      "source": [
        "def extract_uppercase(arr):\n",
        "  return np.char.join('', np.char.upper(arr))\n",
        "# Ex:\n",
        "arr = np.array(['Hello', 'World', 'OpenAI', 'DATASCIENCE'])\n",
        "print(extract_uppercase(arr))"
      ],
      "metadata": {
        "colab": {
          "base_uri": "https://localhost:8080/"
        },
        "id": "68iDgox74jCa",
        "outputId": "72dff66f-e308-4930-aa3a-67297cff0aaf"
      },
      "execution_count": 71,
      "outputs": [
        {
          "output_type": "stream",
          "name": "stdout",
          "text": [
            "['HELLO' 'WORLD' 'OPENAI' 'GPT']\n"
          ]
        }
      ]
    },
    {
      "cell_type": "markdown",
      "source": [
        "Q58"
      ],
      "metadata": {
        "id": "WgIvEXgB6qhk"
      }
    },
    {
      "cell_type": "code",
      "source": [
        "def replace_substring(arr, old_substr, new_substr):\n",
        "  return np.char.replace(arr, old_substr, new_substr)\n",
        "# Ex:\n",
        "arr = np.array(['apple', 'banana'])\n",
        "print(replace_substring(arr, 'grape', 'pineapple'))\n"
      ],
      "metadata": {
        "colab": {
          "base_uri": "https://localhost:8080/"
        },
        "id": "1YJtAUl34i_S",
        "outputId": "838bd25c-bbd4-40c0-ecc0-c56c95ef813c"
      },
      "execution_count": 72,
      "outputs": [
        {
          "output_type": "stream",
          "name": "stdout",
          "text": [
            "['apple' 'banana']\n"
          ]
        }
      ]
    },
    {
      "cell_type": "markdown",
      "source": [
        "Q59"
      ],
      "metadata": {
        "id": "Bq9autMZ6sAq"
      }
    },
    {
      "cell_type": "code",
      "source": [
        "def concatenate_strings(arr1, arr2):\n",
        "  return np.char.add(arr1, arr2)\n",
        "# Ex:\n",
        "arr1 = np.array(['hello ', 'DATA'])\n",
        "arr2 = np.array(['world', ' SCIENCE'])\n",
        "print(concatenate_strings(arr1, arr2))\n"
      ],
      "metadata": {
        "colab": {
          "base_uri": "https://localhost:8080/"
        },
        "id": "fjPfH_1Q4i8K",
        "outputId": "a0ce9e5a-4423-4b79-d1b2-bc5320c5569e"
      },
      "execution_count": 68,
      "outputs": [
        {
          "output_type": "stream",
          "name": "stdout",
          "text": [
            "['hello world' 'DATA SCIENCE']\n"
          ]
        }
      ]
    },
    {
      "cell_type": "markdown",
      "source": [
        "Q60"
      ],
      "metadata": {
        "id": "YSUxgAG96t-D"
      }
    },
    {
      "cell_type": "code",
      "source": [
        "def longest_string_length(arr):\n",
        "  return np.max(np.char.str_len(arr))\n",
        "# Ex:\n",
        "arr = np.array(['apple', 'banana', 'grape', 'pineapple'])\n",
        "print(longest_string_length(arr))"
      ],
      "metadata": {
        "colab": {
          "base_uri": "https://localhost:8080/"
        },
        "id": "5tIWmIUV4i55",
        "outputId": "075fa988-0476-46d1-cdb0-133d5947745b"
      },
      "execution_count": 65,
      "outputs": [
        {
          "output_type": "stream",
          "name": "stdout",
          "text": [
            "9\n"
          ]
        }
      ]
    },
    {
      "cell_type": "markdown",
      "source": [
        "Q61"
      ],
      "metadata": {
        "id": "DKvwp5ej61J1"
      }
    },
    {
      "cell_type": "code",
      "source": [
        "def compute_statistics(arr):\n",
        "  mean = np.mean(arr)\n",
        "  median = np.median(arr)\n",
        "  variance = np.var(arr)\n",
        "  std_dev = np.std(arr)\n",
        "  return mean, median, variance, std_dev\n",
        "# Ex:\n",
        "arr = np.random.randint(1, 1001, size=100)\n",
        "print(compute_statistics(arr))"
      ],
      "metadata": {
        "colab": {
          "base_uri": "https://localhost:8080/"
        },
        "id": "Lmgp4Gnv4i3p",
        "outputId": "0cb358eb-8711-4d14-bf6b-9057cfc9fbda"
      },
      "execution_count": 64,
      "outputs": [
        {
          "output_type": "stream",
          "name": "stdout",
          "text": [
            "(498.06, 491.0, 85737.2164, 292.809180866994)\n"
          ]
        }
      ]
    },
    {
      "cell_type": "markdown",
      "source": [
        "Q62"
      ],
      "metadata": {
        "id": "ScjXcHEf62WD"
      }
    },
    {
      "cell_type": "code",
      "source": [
        "def find_percentiles(arr):\n",
        "  percentile_25 = np.percentile(arr, 25)\n",
        "  percentile_75 = np.percentile(arr, 75)\n",
        "  return percentile_25, percentile_75\n",
        "# Ex:\n",
        "arr = np.random.randint(1, 101, size=50)\n",
        "print(find_percentiles(arr))\n"
      ],
      "metadata": {
        "colab": {
          "base_uri": "https://localhost:8080/"
        },
        "id": "Wg6SHQkP4izQ",
        "outputId": "02e428bf-61c5-4d92-a338-020eeae7174e"
      },
      "execution_count": 61,
      "outputs": [
        {
          "output_type": "stream",
          "name": "stdout",
          "text": [
            "(41.25, 87.75)\n"
          ]
        }
      ]
    },
    {
      "cell_type": "markdown",
      "source": [
        "Q63"
      ],
      "metadata": {
        "id": "4zGTdaMR63U1"
      }
    },
    {
      "cell_type": "code",
      "source": [
        "def compute_correlation(arr1, arr2):\n",
        "  return np.corrcoef(arr1, arr2)[0, 1]\n",
        "# Ex:\n",
        "arr1 = np.random.randint(1, 100, size=50)\n",
        "arr2 = np.random.randint(1, 100, size=50)\n",
        "print(compute_correlation(arr1, arr2))\n"
      ],
      "metadata": {
        "colab": {
          "base_uri": "https://localhost:8080/"
        },
        "id": "3ye6GSRK4ixL",
        "outputId": "ed46aead-073e-4a74-c774-deb27c6da329"
      },
      "execution_count": 62,
      "outputs": [
        {
          "output_type": "stream",
          "name": "stdout",
          "text": [
            "0.09205503252676597\n"
          ]
        }
      ]
    },
    {
      "cell_type": "markdown",
      "source": [
        "Q64"
      ],
      "metadata": {
        "id": "pubyFdIe64pZ"
      }
    },
    {
      "cell_type": "code",
      "source": [
        "def matrix_multiplication(mat1, mat2):\n",
        "  return np.dot(mat1, mat2)\n",
        "# Ex:\n",
        "mat1 = np.random.randint(1, 10, size=(3, 2))\n",
        "mat2 = np.random.randint(1, 10, size=(2, 3))\n",
        "print(matrix_multiplication(mat1, mat2))"
      ],
      "metadata": {
        "colab": {
          "base_uri": "https://localhost:8080/"
        },
        "id": "hKcST2Ib5YY5",
        "outputId": "201fa9aa-0bd3-494c-b01a-95e3830e9e4e"
      },
      "execution_count": 63,
      "outputs": [
        {
          "output_type": "stream",
          "name": "stdout",
          "text": [
            "[[84 72 56]\n",
            " [77 64 84]\n",
            " [52 44 44]]\n"
          ]
        }
      ]
    },
    {
      "cell_type": "markdown",
      "source": [
        "Q65"
      ],
      "metadata": {
        "id": "pcKTc6o766B5"
      }
    },
    {
      "cell_type": "code",
      "source": [
        "def calculate_percentiles(arr):\n",
        "  percentiles = {\n",
        "'10th': np.percentile(arr, 10),\n",
        "'50th (median)': np.percentile(arr, 50),\n",
        "'90th': np.percentile(arr, 90),\n",
        "'1st Quartile': np.percentile(arr, 25),\n",
        "'3rd Quartile': np.percentile(arr, 75)\n",
        "}\n",
        "  return percentiles\n",
        "# Ex:\n",
        "arr = np.random.randint(10, 1001, size=50)\n",
        "print(calculate_percentiles(arr))"
      ],
      "metadata": {
        "colab": {
          "base_uri": "https://localhost:8080/"
        },
        "id": "OcLJgnun5YWm",
        "outputId": "508beeb6-6acb-4bfe-dfd9-586de981c061"
      },
      "execution_count": 60,
      "outputs": [
        {
          "output_type": "stream",
          "name": "stdout",
          "text": [
            "{'10th': 166.8, '50th (median)': 545.0, '90th': 907.1, '1st Quartile': 239.25, '3rd Quartile': 806.25}\n"
          ]
        }
      ]
    },
    {
      "cell_type": "markdown",
      "source": [
        "Q66"
      ],
      "metadata": {
        "id": "n_0Y81Cf67TZ"
      }
    },
    {
      "cell_type": "code",
      "source": [
        "def find_index(arr, element):\n",
        "  return np.where(arr == element)[0]\n",
        "# Ex:\n",
        "arr = np.array([10, 20, 30, 40, 50])\n",
        "print(find_index(arr, 30))"
      ],
      "metadata": {
        "colab": {
          "base_uri": "https://localhost:8080/"
        },
        "id": "BcTRe2Il5YTR",
        "outputId": "f27a3836-fdc1-42a0-cd37-70b70d955d7e"
      },
      "execution_count": 57,
      "outputs": [
        {
          "output_type": "stream",
          "name": "stdout",
          "text": [
            "[2]\n"
          ]
        }
      ]
    },
    {
      "cell_type": "markdown",
      "source": [
        "Q67"
      ],
      "metadata": {
        "id": "Zih5g0A168ZA"
      }
    },
    {
      "cell_type": "code",
      "source": [
        "def sort_array(arr):\n",
        "  return np.sort(arr)\n",
        "# Ex:\n",
        "arr = np.random.randint(1, 100, size=10)\n",
        "print(sort_array(arr))"
      ],
      "metadata": {
        "colab": {
          "base_uri": "https://localhost:8080/"
        },
        "id": "N4Vyq57i5YQq",
        "outputId": "99cbfedf-dbc7-458a-af27-a1e6b78b38e6"
      },
      "execution_count": 58,
      "outputs": [
        {
          "output_type": "stream",
          "name": "stdout",
          "text": [
            "[22 39 43 45 46 57 71 84 88 92]\n"
          ]
        }
      ]
    },
    {
      "cell_type": "markdown",
      "source": [
        "Q68"
      ],
      "metadata": {
        "id": "HhQ2Ifwv69Tg"
      }
    },
    {
      "cell_type": "code",
      "source": [
        "def filter_greater_than_20(arr):\n",
        "  return arr[arr > 20]\n",
        "# Ex:\n",
        "arr = np.array([12, 25, 6, 42, 8, 30])\n",
        "print(filter_greater_than_20(arr))"
      ],
      "metadata": {
        "colab": {
          "base_uri": "https://localhost:8080/"
        },
        "id": "h0968cbL5YNb",
        "outputId": "db979abd-5f57-4adf-c352-785b5d078be1"
      },
      "execution_count": 56,
      "outputs": [
        {
          "output_type": "stream",
          "name": "stdout",
          "text": [
            "[25 42 30]\n"
          ]
        }
      ]
    },
    {
      "cell_type": "markdown",
      "source": [
        "Q69"
      ],
      "metadata": {
        "id": "cxaP134T6-eh"
      }
    },
    {
      "cell_type": "code",
      "source": [
        "def filter_divisible_by_3(arr):\n",
        "  return arr[arr % 3 == 0]\n",
        "# Ex:\n",
        "arr = np.array([1, 5, 8, 12, 15])\n",
        "print(filter_divisible_by_3(arr))\n"
      ],
      "metadata": {
        "colab": {
          "base_uri": "https://localhost:8080/"
        },
        "id": "JQ1fYJsh5i61",
        "outputId": "0e881d2d-639e-4c55-eaac-d29a346d87d2"
      },
      "execution_count": 55,
      "outputs": [
        {
          "output_type": "stream",
          "name": "stdout",
          "text": [
            "[12 15]\n"
          ]
        }
      ]
    },
    {
      "cell_type": "markdown",
      "source": [
        "Q70"
      ],
      "metadata": {
        "id": "1AYs-seD6_3X"
      }
    },
    {
      "cell_type": "code",
      "source": [
        "def filter_between_20_and_40(arr):\n",
        "  return arr[(arr >= 20) & (arr <= 40)]\n",
        "# Ex:\n",
        "arr = np.array([10, 20, 30, 40, 50])\n",
        "print(filter_between_20_and_40(arr))\n"
      ],
      "metadata": {
        "colab": {
          "base_uri": "https://localhost:8080/"
        },
        "id": "RYI1kfaG5lES",
        "outputId": "02048d59-62e7-4f6f-e2ed-ef277f30d619"
      },
      "execution_count": 99,
      "outputs": [
        {
          "output_type": "stream",
          "name": "stdout",
          "text": [
            "[20 30 40]\n"
          ]
        }
      ]
    },
    {
      "cell_type": "markdown",
      "source": [
        "Q71"
      ],
      "metadata": {
        "id": "rq19xJBr_KLy"
      }
    },
    {
      "cell_type": "code",
      "source": [
        "\n",
        "def check_byte_order(arr):\n",
        "  return arr.dtype.byteorder\n",
        "# Ex:\n",
        "arr = np.array([1, 2, 3], dtype=np.int32)\n",
        "print(check_byte_order(arr))\n"
      ],
      "metadata": {
        "colab": {
          "base_uri": "https://localhost:8080/"
        },
        "id": "T60npTCo_BVa",
        "outputId": "7026a0b5-dab8-4a03-8340-b209cdacf3c2"
      },
      "execution_count": 83,
      "outputs": [
        {
          "output_type": "stream",
          "name": "stdout",
          "text": [
            "=\n"
          ]
        }
      ]
    },
    {
      "cell_type": "markdown",
      "source": [
        "Q72"
      ],
      "metadata": {
        "id": "JTTITvkE_I9e"
      }
    },
    {
      "cell_type": "code",
      "source": [
        "def byte_swap_in_place(arr):\n",
        "  arr.byteswap(True)\n",
        "  return arr\n",
        "17\n",
        "# Ex:\n",
        "arr = np.array([1, 256, 65536], dtype=np.int32)\n",
        "print(byte_swap_in_place(arr))"
      ],
      "metadata": {
        "id": "EhDMrhd1_BTS"
      },
      "execution_count": null,
      "outputs": []
    },
    {
      "cell_type": "markdown",
      "source": [
        "Q73"
      ],
      "metadata": {
        "id": "UzUgb7_w_S-n"
      }
    },
    {
      "cell_type": "code",
      "source": [
        "def byte_swap_new(arr):\n",
        "return arr.newbyteorder()\n",
        "# Ex:\n",
        "arr = np.array([1, 256, 65536], dtype=np.int32)\n",
        "print(byte_swap_new(arr))"
      ],
      "metadata": {
        "id": "uXxDs1bM_BQ7"
      },
      "execution_count": null,
      "outputs": []
    },
    {
      "cell_type": "markdown",
      "source": [
        "Q74"
      ],
      "metadata": {
        "id": "X06FfJYN_UZi"
      }
    },
    {
      "cell_type": "code",
      "source": [
        "def conditional_byte_swap(arr):\n",
        "  if arr.dtype.byteorder == '=':\n",
        "    return arr.newbyteorder()\n",
        "  else:\n",
        "    return arr\n",
        "# Ex:\n",
        "arr = np.array([1, 256, 65536], dtype=np.int32)\n",
        "print(conditional_byte_swap(arr))"
      ],
      "metadata": {
        "colab": {
          "base_uri": "https://localhost:8080/"
        },
        "id": "g0G0sidS_BOh",
        "outputId": "c6d17534-af6b-434e-a7fa-49b12052b23e"
      },
      "execution_count": 86,
      "outputs": [
        {
          "output_type": "stream",
          "name": "stdout",
          "text": [
            "[16777216    65536      256]\n"
          ]
        }
      ]
    },
    {
      "cell_type": "markdown",
      "source": [
        "Q75"
      ],
      "metadata": {
        "id": "oDq0O5SUAnxF"
      }
    },
    {
      "cell_type": "code",
      "source": [
        "def is_byte_swap_necessary(arr):\n",
        "  return arr.dtype.byteorder not in ('=', '|') # '=' for native byte order,'|' for not applicable\n",
        "# Ex:\n",
        "arr = np.array([1, 256, 65536], dtype=np.int32)\n",
        "print(is_byte_swap_necessary(arr))"
      ],
      "metadata": {
        "colab": {
          "base_uri": "https://localhost:8080/"
        },
        "id": "dENT2w_n_BMQ",
        "outputId": "29345b40-ff6c-456e-aaa5-1bc9f3db0c8f"
      },
      "execution_count": 87,
      "outputs": [
        {
          "output_type": "stream",
          "name": "stdout",
          "text": [
            "False\n"
          ]
        }
      ]
    },
    {
      "cell_type": "markdown",
      "source": [
        "Q76"
      ],
      "metadata": {
        "id": "DMu3wlQ6AppT"
      }
    },
    {
      "cell_type": "code",
      "source": [
        "def check_copy_behavior():\n",
        "  arr1 = np.arange(1, 11)\n",
        "  copy_arr = arr1.copy()\n",
        "  copy_arr[0] = 99\n",
        "  return arr1, copy_arr\n",
        "# Ex:\n",
        "arr1, copy_arr = check_copy_behavior()\n",
        "print(\"Original array:\", arr1)\n",
        "print(\"Modified copy:\", copy_arr)"
      ],
      "metadata": {
        "colab": {
          "base_uri": "https://localhost:8080/"
        },
        "id": "w7nvF6ox_BJj",
        "outputId": "33edffee-3aac-4f28-808b-ce1a5b278389"
      },
      "execution_count": 88,
      "outputs": [
        {
          "output_type": "stream",
          "name": "stdout",
          "text": [
            "Original array: [ 1  2  3  4  5  6  7  8  9 10]\n",
            "Modified copy: [99  2  3  4  5  6  7  8  9 10]\n"
          ]
        }
      ]
    },
    {
      "cell_type": "markdown",
      "source": [
        "Q77"
      ],
      "metadata": {
        "id": "HtoCZ3L7ArIA"
      }
    },
    {
      "cell_type": "code",
      "source": [
        "def check_view_behavior():\n",
        "  matrix = np.random.randint(1, 10, size=(3, 3))\n",
        "  view_slice = matrix[:2, :2]\n",
        "  view_slice[0, 0] = 99\n",
        "  return matrix, view_slice\n",
        "# EX:\n",
        "matrix, view_slice = check_view_behavior()\n",
        "print(\"Original matrix after modification:\", matrix)\n",
        "print(\"View slice:\", view_slice)"
      ],
      "metadata": {
        "colab": {
          "base_uri": "https://localhost:8080/"
        },
        "id": "qKFToHsp_hCj",
        "outputId": "eb7bd0dd-1211-4516-b1dd-63f8538cbeae"
      },
      "execution_count": 89,
      "outputs": [
        {
          "output_type": "stream",
          "name": "stdout",
          "text": [
            "Original matrix after modification: [[99  1  9]\n",
            " [ 2  9  2]\n",
            " [ 2  6  9]]\n",
            "View slice: [[99  1]\n",
            " [ 2  9]]\n"
          ]
        }
      ]
    },
    {
      "cell_type": "markdown",
      "source": [
        "Q78"
      ],
      "metadata": {
        "id": "CaSOItDkAtBi"
      }
    },
    {
      "cell_type": "code",
      "source": [
        "def broadcast_and_modify():\n",
        "  array_a = np.arange(1, 13).reshape(4, 3)\n",
        "  view_b = array_a[1:3, 1:3]\n",
        "  view_b += 5\n",
        "  return array_a, view_b\n",
        "# Ex:\n",
        "array_a, view_b = broadcast_and_modify()\n",
        "print(\"Original array after broadcast modification:\", array_a)\n",
        "print(\"View slice:\", view_b)"
      ],
      "metadata": {
        "colab": {
          "base_uri": "https://localhost:8080/"
        },
        "id": "FQHh2qOE_hAg",
        "outputId": "7a0c5dd8-53d9-4585-9c5b-074aa13d210f"
      },
      "execution_count": 97,
      "outputs": [
        {
          "output_type": "stream",
          "name": "stdout",
          "text": [
            "Original array after broadcast modification: [[ 1  2  3]\n",
            " [ 4 10 11]\n",
            " [ 7 13 14]\n",
            " [10 11 12]]\n",
            "View slice: [[10 11]\n",
            " [13 14]]\n"
          ]
        }
      ]
    },
    {
      "cell_type": "markdown",
      "source": [
        "Q79"
      ],
      "metadata": {
        "id": "9FW_rJUFAu3r"
      }
    },
    {
      "cell_type": "code",
      "source": [
        "def reshape_and_modify():\n",
        "  orig_array = np.arange(1, 9).reshape(2, 4)\n",
        "  reshaped_view = orig_array.reshape(4, 2)\n",
        "  reshaped_view[0, 0] = 99\n",
        "  return orig_array, reshaped_view\n",
        "# Ex:\n",
        "orig_array, reshaped_view = reshape_and_modify()\n",
        "print(\"Original array after reshaped view modification:\", orig_array)\n",
        "print(\"Reshaped view:\", reshaped_view)\n"
      ],
      "metadata": {
        "colab": {
          "base_uri": "https://localhost:8080/"
        },
        "id": "eBlvrCet_g95",
        "outputId": "e7b92d87-2b9a-45c0-eb08-eb2ec2d566f5"
      },
      "execution_count": 96,
      "outputs": [
        {
          "output_type": "stream",
          "name": "stdout",
          "text": [
            "Original array after reshaped view modification: [[99  2  3  4]\n",
            " [ 5  6  7  8]]\n",
            "Reshaped view: [[99  2]\n",
            " [ 3  4]\n",
            " [ 5  6]\n",
            " [ 7  8]]\n"
          ]
        }
      ]
    },
    {
      "cell_type": "markdown",
      "source": [
        "Q80"
      ],
      "metadata": {
        "id": "WRFRGjreAwhD"
      }
    },
    {
      "cell_type": "code",
      "source": [
        "def modify_copy():\n",
        "  data = np.random.randint(1, 10, size=(3, 4))\n",
        "  data_copy = data[data > 5].copy()\n",
        "  data_copy[0] = 99\n",
        "  return data, data_copy\n",
        "# Ex:\n",
        "data, data_copy = modify_copy()\n",
        "print(\"Original data after copy modification:\", data)\n",
        "print(\"Modified copy:\", data_copy)"
      ],
      "metadata": {
        "colab": {
          "base_uri": "https://localhost:8080/"
        },
        "id": "0pmnbIKL_g4v",
        "outputId": "245c1dee-79de-4f39-d5ce-94c3546d9ee9"
      },
      "execution_count": 98,
      "outputs": [
        {
          "output_type": "stream",
          "name": "stdout",
          "text": [
            "Original data after copy modification: [[8 2 5 9]\n",
            " [7 3 9 2]\n",
            " [1 4 4 8]]\n",
            "Modified copy: [99  9  7  9  8]\n"
          ]
        }
      ]
    },
    {
      "cell_type": "markdown",
      "source": [
        "Q81"
      ],
      "metadata": {
        "id": "JqCAWQ9nAx2U"
      }
    },
    {
      "cell_type": "code",
      "source": [
        "def add_subtract_matrices(A, B):\n",
        "  addition_result = A + B\n",
        "  subtraction_result = A - B\n",
        "  return addition_result, subtraction_result\n",
        "# EX:\n",
        "A = np.array([[1, 2], [3, 4]])\n",
        "B = np.array([[5, 6], [7, 8]])\n",
        "addition, subtraction = add_subtract_matrices(A, B)\n",
        "print(\"Addition Result:\\n\", addition)\n",
        "print(\"Subtraction Result:\\n\", subtraction)\n"
      ],
      "metadata": {
        "colab": {
          "base_uri": "https://localhost:8080/"
        },
        "id": "eJOcE6Oq_g2M",
        "outputId": "3783e2ef-57c2-404f-e3e2-7eae804eb841"
      },
      "execution_count": 94,
      "outputs": [
        {
          "output_type": "stream",
          "name": "stdout",
          "text": [
            "Addition Result:\n",
            " [[ 6  8]\n",
            " [10 12]]\n",
            "Subtraction Result:\n",
            " [[-4 -4]\n",
            " [-4 -4]]\n"
          ]
        }
      ]
    },
    {
      "cell_type": "markdown",
      "source": [
        "Q82"
      ],
      "metadata": {
        "id": "CvsI9fwnBKok"
      }
    },
    {
      "cell_type": "code",
      "source": [
        "def matrix_multiply(C, D):\n",
        "  return np.dot(C, D)\n",
        "# Ex:\n",
        "C = np.random.randint(1, 10, size=(3, 2))\n",
        "D = np.random.randint(1, 10, size=(2, 4))\n",
        "result = matrix_multiply(C, D)\n",
        "print(\"Matrix Multiplication Result:\\n\", result)"
      ],
      "metadata": {
        "colab": {
          "base_uri": "https://localhost:8080/"
        },
        "id": "1BOzde6k_g0C",
        "outputId": "75dafbd2-eca7-4a20-ddf4-e644d748335d"
      },
      "execution_count": 93,
      "outputs": [
        {
          "output_type": "stream",
          "name": "stdout",
          "text": [
            "Matrix Multiplication Result:\n",
            " [[ 77  61  51  74]\n",
            " [ 80  54  52  87]\n",
            " [108  90  72  99]]\n"
          ]
        }
      ]
    },
    {
      "cell_type": "markdown",
      "source": [
        "Q83"
      ],
      "metadata": {
        "id": "FkOlVlJiBMmM"
      }
    },
    {
      "cell_type": "code",
      "source": [
        "def transpose_matrix(E):\n",
        "  return E.T\n",
        "# Ex:\n",
        "E = np.array([[1, 2, 3], [4, 5, 6], [7, 8, 9]])\n",
        "transpose = transpose_matrix(E)\n",
        "print(\"Transpose of E:\\n\", transpose)\n"
      ],
      "metadata": {
        "colab": {
          "base_uri": "https://localhost:8080/"
        },
        "id": "xcJJh56b_ytx",
        "outputId": "8e80dab9-8d46-4386-d02f-dce10c8d0867"
      },
      "execution_count": 92,
      "outputs": [
        {
          "output_type": "stream",
          "name": "stdout",
          "text": [
            "Transpose of E:\n",
            " [[1 4 7]\n",
            " [2 5 8]\n",
            " [3 6 9]]\n"
          ]
        }
      ]
    },
    {
      "cell_type": "markdown",
      "source": [
        "Q84"
      ],
      "metadata": {
        "id": "0R1_j1PABQME"
      }
    },
    {
      "cell_type": "code",
      "source": [
        "def compute_determinant(F):\n",
        "  return np.linalg.det(F)\n",
        "# Ex:\n",
        "F = np.array([[1, 2], [3, 4]])\n",
        "determinant = compute_determinant(F)\n",
        "print(\"Determinant of F:\", determinant)\n"
      ],
      "metadata": {
        "colab": {
          "base_uri": "https://localhost:8080/"
        },
        "id": "5BvCmioQ_yp2",
        "outputId": "79913ce6-b6d3-4bb3-bcf6-85ae8af37115"
      },
      "execution_count": 91,
      "outputs": [
        {
          "output_type": "stream",
          "name": "stdout",
          "text": [
            "Determinant of F: -2.0000000000000004\n"
          ]
        }
      ]
    },
    {
      "cell_type": "markdown",
      "source": [
        "Q85"
      ],
      "metadata": {
        "id": "MevQIzwcBRsI"
      }
    },
    {
      "cell_type": "code",
      "source": [
        "def find_inverse(G):\n",
        "  return np.linalg.inv(G)\n",
        "# Ex:\n",
        "G = np.array([[1, 2], [3, 4]])\n",
        "inverse = find_inverse(G)\n",
        "print(\"Inverse of G:\\n\", inverse)\n"
      ],
      "metadata": {
        "colab": {
          "base_uri": "https://localhost:8080/"
        },
        "id": "JB8iECvA_ynS",
        "outputId": "f71e0033-ff7f-482e-b095-ddd4099bf2ec"
      },
      "execution_count": 90,
      "outputs": [
        {
          "output_type": "stream",
          "name": "stdout",
          "text": [
            "Inverse of G:\n",
            " [[-2.   1. ]\n",
            " [ 1.5 -0.5]]\n"
          ]
        }
      ]
    }
  ]
}